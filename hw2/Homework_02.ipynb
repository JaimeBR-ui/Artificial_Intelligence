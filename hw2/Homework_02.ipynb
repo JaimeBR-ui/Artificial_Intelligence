{
 "cells": [
  {
   "cell_type": "markdown",
   "metadata": {},
   "source": [
    "# Logistic Regression Homework\n",
    "\n",
    "This is the 2nd assignment for CAP 4630 and we will implement logistic regression and apply it to two\n",
    "different datasets. \\\n",
    "You will use **\"Tasks\"** and **\"Hints\"** to finish the work. **(Total 100 Points)** \\\n",
    "You are **not** allowed to use Machine Learning libaries such as Scikit-learn and Keras.\n",
    "\n",
    "**Task Overview:**\n",
    "- Logistic Regression \n",
    "- Regularized logistic regression"
   ]
  },
  {
   "cell_type": "markdown",
   "metadata": {},
   "source": [
    "## 1 - Logistic Regression ##\n",
    "### 1.1 Packages\n",
    "\n",
    "Import useful packages for scientific computing and data processing. \n",
    "\n",
    "**Tasks:**\n",
    "1. Import numpy and rename it to np.\n",
    "2. Import pandas and rename it to pd.\n",
    "3. Import the pyplot function in the libraray of matplotlib and rename it to plt.\n",
    "\n",
    "References:\n",
    "- [numpy](www.numpy.org) is the fundamental package for scientific computing with Python.\n",
    "- [matplotlib](http://matplotlib.org) is a famous library to plot graphs in Python.\n",
    "\n",
    "**Attention:**\n",
    "1. After this renaming, you will use the new name to call functions. For example, **numpy** will become **np** in the following sections."
   ]
  },
  {
   "cell_type": "code",
   "execution_count": 1,
   "metadata": {},
   "outputs": [],
   "source": [
    "# Import and rename libraries here\n",
    "import math\n",
    "import numpy as np\n",
    "import pandas as pd\n",
    "from math import log\n",
    "from matplotlib import pyplot as plt\n",
    "import matplotlib.patches as mpatches\n",
    "\n",
    "debug = False"
   ]
  },
  {
   "cell_type": "markdown",
   "metadata": {
    "collapsed": true
   },
   "source": [
    "### 1.2 - Data Preparation ##\n",
    "\n",
    "Prepare the data for regression task. **(5 Points)**\n",
    "\n",
    "**Tasks:**\n",
    "1. Load data for logistic regression.\n",
    "2. Generate the scatter plot of the data.\n",
    "\n",
    "**Hints:**\n",
    "1. The data file is \"data_logistic.csv\", which are exam scores for students.\n",
    "2. The data is organized by column: x1 (exam 1 score), x2 (exam 2 score), and label y (pass 1 or fail 0).\n",
    "3. Please use different colors for postive(label=1) and negative(label=0) data.\n",
    "4. An example of scatter plots is shown below.\n",
    "![mxplusc](data_plots.png)"
   ]
  },
  {
   "cell_type": "code",
   "execution_count": 2,
   "metadata": {},
   "outputs": [
    {
     "name": "stdout",
     "output_type": "stream",
     "text": [
      "48 32\n"
     ]
    },
    {
     "data": {
      "image/png": "[encoded data removed]",
      "text/plain": [
       "<Figure size 432x288 with 1 Axes>"
      ]
     },
     "metadata": {
      "needs_background": "light"
     },
     "output_type": "display_data"
    }
   ],
   "source": [
    "# Preprocess input data and generate plots\n",
    "data = pd.read_csv('data_logistic.csv')\n",
    "x = data.iloc[:, 0]\n",
    "y = data.iloc[:, 1]\n",
    "z = data.iloc[:, 2]\n",
    "points = []\n",
    "labels = []\n",
    "g = 0\n",
    "h=0\n",
    "for i in range(len(x)):\n",
    "    points.append([1, x[i], y[i]])\n",
    "    labels.append(z[i])\n",
    "    if z[i] == 1:\n",
    "        g += 1\n",
    "    else:\n",
    "        h += 1\n",
    "print(g, h)\n",
    "for i in range(len(points)):\n",
    "    plt.scatter(points[i][1], points[i][2], \n",
    "                color = 'black' if labels[i] == 1 else 'y',\n",
    "                marker = '+' if labels[i]  == 1 else 'o')\n",
    "points = np.array(points)\n",
    "labels = np.array([labels])\n",
    "plt.show()"
   ]
  },
  {
   "cell_type": "markdown",
   "metadata": {},
   "source": [
    "### 1.3 - Sigmoid function ##\n",
    "\n",
    "\n",
    "Implement sigmoid function so it can be called by the rest of your program. **(10 Points)**\n",
    "\n",
    "**Tasks:**\n",
    "1. Implement the sigmoid function (**def sigmoid(z):**). \n",
    "2. Test the sigmoid function by function plotting with test data (X, Y) where Y = sigmoid(X). \n",
    "\n",
    "**Hints:**  \n",
    "1. Given the class material, sigmoid function is defined as:\n",
    "$g(z) = \\frac{1}{1+e^{-z}}$.\n",
    "2. You may consider X = np.linspace(-5, 5, 1000) to plot the curve.\n",
    "3. Plot Y against X.\n",
    "4. An example of plot for validation is shown below:\n",
    "![mxplusc](sigmoid_illustration.jpg)"
   ]
  },
  {
   "cell_type": "code",
   "execution_count": 3,
   "metadata": {},
   "outputs": [],
   "source": [
    "# Implement sigmoid fuction here\n",
    "def sigmoid(z: float) -> float:\n",
    "    return 1 / (1 + np.exp(-z))\n"
   ]
  },
  {
   "cell_type": "code",
   "execution_count": 4,
   "metadata": {},
   "outputs": [
    {
     "data": {
      "image/png": "[encoded data removed]",
      "text/plain": [
       "<Figure size 432x288 with 1 Axes>"
      ]
     },
     "metadata": {
      "needs_background": "light"
     },
     "output_type": "display_data"
    },
    {
     "name": "stdout",
     "output_type": "stream",
     "text": [
      "done!\n"
     ]
    }
   ],
   "source": [
    "# Plot data here\n",
    "x = np.linspace(-5, 5, 1000)\n",
    "sigx = 1 / (1 + np.exp(-x))\n",
    "plt.plot(x, sigx)\n",
    "    \n",
    "plt.show()\n",
    "print('done!')"
   ]
  },
  {
   "cell_type": "code",
   "execution_count": 5,
   "metadata": {},
   "outputs": [],
   "source": [
    "def getH(weights: np.array, values: np.array) -> np.array:\n",
    "    ans = values.dot(transpose(weights))\n",
    "    for r in ans:\n",
    "        for i in range(len(r)):\n",
    "            r[i] = sigmoid(r[i])\n",
    "    \n",
    "    return ans\n",
    "\n",
    "def transpose(x: np.array):\n",
    "    return np.transpose(x)\n"
   ]
  },
  {
   "cell_type": "markdown",
   "metadata": {},
   "source": [
    "### 1.4 - Cost function and gradient ##\n",
    "\n",
    "Implement the cross entropy cost function and its gradient for logistic regression. **(20 Points)**\n",
    "\n",
    "**Tasks:**\n",
    "1. Implement the \"cal_cost\" to compute the cost.\n",
    "2. Implement the \"cal_grad\" to compute the gradients.\n",
    "3. Test \"cal_cost\" and \"cal_grad\" with initial values and print out the results.\n",
    "\n",
    "**Hint:**\n",
    "1. The cross entropy cost function (J(θ)) in logistic regression is shown below. It involves two terms, including ylog(h) and (1-y)log(1-h) where h is the function of x.\n",
    "![mxplusc](equation_J.jpg)\n",
    "\n",
    "3. When you implement J(θ), please use eps = 1e-15 to prevent possible \"divide by 0 exception\" in second term. You may think about the reason.\n",
    "4. You may consider the below templates for two functions:\n",
    "\n",
    "    def cal_cost(theta, X, y):\n",
    "        htheta = ...\n",
    "        term1 = ...  /* matrix_multiplication(log(htheta), y)\n",
    "        term2 = ...  /* matrix_multiplication(log(1-htheta+eps), (1-y))\n",
    "        J = - 1 / m * (term1 + term2)         \n",
    "        return cost"
   ]
  },
  {
   "cell_type": "code",
   "execution_count": 6,
   "metadata": {},
   "outputs": [
    {
     "name": "stdout",
     "output_type": "stream",
     "text": [
      "started!\n",
      "Cost at initial theta: 0.6931471805599444\n"
     ]
    }
   ],
   "source": [
    "print('started!')\n",
    "\n",
    "theta = np.array([[0, 0, 0]])\n",
    "# bias multiplier(0), x1, x2\n",
    "eps = 1e-15\n",
    "\n",
    "# Implement the cost function here.\n",
    "# Theta: actual weights (3 (bias, x1, x2)), x -> inputs, y -> prediction.\n",
    "def cal_cost(theta: np.array, x, y):\n",
    "    htheta = getH(theta, x) # here we pass all our inputs through our weights\n",
    "    log_res = np.log(htheta)\n",
    "    term1 = y.dot(log_res)\n",
    "    term2 = (1-y).dot(np.log((1+eps)-htheta))#([[log(1-htheta+eps)] * (len(y))]).dot(1 - y)\n",
    "#     print(term1, term2)\n",
    "    cost = - 1 / len(y[0]) * (term1 + term2)\n",
    "    return cost\n",
    "\n",
    "print ('Cost at initial theta: {0}'.format(cal_cost(theta, points, labels)[0][0]))\n"
   ]
  },
  {
   "cell_type": "markdown",
   "metadata": {},
   "source": [
    "    **Expected outputs:**\\\n",
    "    Cost at initial theta : 0.6931471805599445\\\n",
    "    \n",
    "2. The gradient of the cost J(θ) is a vector of the same length as θ where the $j$th element (for $j = 0, 1, . . . , n)$ is defined below. You may do a hand calculation to justify the first order derivative with the term above.\n",
    "![mxplusc](equation_theta.jpg)\n",
    "\n",
    "def cal_grad(theta, X, y):\n",
    "        \n",
    "        htheta = ...\n",
    "        term1 = ... /* matrix_multiplication(transpose(X), (htheta - y))  //you may think about why transpose(x)\n",
    "        grad = 1 / m * term1 \n",
    "    \n",
    "        return grad\n",
    "5. It involves matrix multiplication and you may consider the function of np.matmul or np.dot.   \n",
    "        \n",
    "6. Initialize the intercept term with **ones** and the theta with **zeros**. Test the functions with these initial values. \\\n",
    "    **Expected outputs:**\\\n",
    "    Gradient at inital theta : [-0.1        -10.91242026 -11.73652937]\n"
   ]
  },
  {
   "cell_type": "code",
   "execution_count": 7,
   "metadata": {
    "scrolled": true
   },
   "outputs": [
    {
     "name": "stdout",
     "output_type": "stream",
     "text": [
      "Gradient at inital theta:\n",
      " [[ -0.1        -10.91242026 -11.73652937]]\n"
     ]
    }
   ],
   "source": [
    "def cal_grad(theta, x, y):\n",
    "    htheta = getH(theta, x) # 80 x 1\n",
    "    # x is a 80 x 3\n",
    "    inside = (htheta - transpose(y))\n",
    "    term1 = transpose(inside).dot(x)\n",
    "    grad = (1 / len(y[0])) * term1\n",
    "    \n",
    "    return grad\n",
    "\n",
    "print ('Gradient at inital theta:\\n {0}'.format(cal_grad(theta, points, labels)))\n"
   ]
  },
  {
   "cell_type": "markdown",
   "metadata": {},
   "source": [
    "## 1.5 Train parameters with Gradient Descent ##\n",
    "\n",
    "\n",
    "Train parameters using Gradient Descent. **(10 Points)**\n",
    "\n",
    "**Tasks:**\n",
    "1. Calculate best fit theta by Gradient Descent with learning rate of **0.001** and epoch of **800K**. The initial theta from above blocks is used as initial values.\n",
    "2. Print out the best theta (the last one is considered as the best here) and its corresponding cost.\n",
    "3. Plot the decision boundary.\n",
    "\n",
    "**Hints:**\n",
    "1. You may take gradient descent in homework 1 as an template.  \n",
    "2. The validation of first 5 epochs (updated theta and cost): \\\n",
    "------Epoch 0------\\\n",
    "Theta: [0.0001     0.01091242 0.01173653]\\\n",
    "Cost: 0.6996118077359638\\\n",
    "------Epoch 1------\\\n",
    "Theta: [-0.0001129   0.00053949  0.00229352]\\\n",
    "Cost: 0.6649331468590681\\\n",
    "------Epoch 2------\\\n",
    "Theta: [-5.93604956e-05  8.33145873e-03  1.07754324e-02]\\\n",
    "Cost: 0.6679914364992459\\\n",
    "------Epoch 3------\\\n",
    "Theta: [-0.0002356   0.0004607   0.00370829]\\\n",
    "Cost: 0.6545873034874964\\\n",
    "------Epoch 4------\\\n",
    "Theta: [-0.00020363  0.00683227  0.01065138]\\\n",
    "Cost: 0.6563302142684528  \n",
    "3. You may take the plots below as an exmample: \n",
    "![mxplusc](decision_boundary_01.png)\n",
    "4. It may take ~1 min to finish running."
   ]
  },
  {
   "cell_type": "code",
   "execution_count": 8,
   "metadata": {
    "scrolled": true
   },
   "outputs": [
    {
     "name": "stdout",
     "output_type": "stream",
     "text": [
      "started\n",
      "--Epoch 0---\n",
      "Theta:  [[0.0001     0.01091242 0.01173653]]\n",
      "Cost:  0.6996118077359635\n",
      "--Epoch 1---\n",
      "Theta:  [[-0.0001129   0.00053949  0.00229352]]\n",
      "Cost:  0.6649331468590681\n",
      "--Epoch 2---\n",
      "Theta:  [[-5.93604956e-05  8.33145873e-03  1.07754324e-02]]\n",
      "Cost:  0.6679914364992459\n",
      "--Epoch 3---\n",
      "Theta:  [[-0.0002356   0.0004607   0.00370829]]\n",
      "Cost:  0.6545873034874963\n",
      "--Epoch 4---\n",
      "Theta:  [[-0.00020363  0.00683227  0.01065138]]\n",
      "Cost:  0.6563302142684526\n",
      "\n",
      " Result after 800000 Epochs\n",
      "Theta: [[-13.38180064   0.10550175   0.11154862]]\n",
      "Cost: 0.2761699482595885\n"
     ]
    }
   ],
   "source": [
    "# Gradient Descent Implementation Here\n",
    "print('started')\n",
    "theta = np.array([[0, 0, 0]])\n",
    "lr = 0.001\n",
    "epoch = 800000\n",
    "for i in range(epoch):\n",
    "    theta = theta - lr * cal_grad(theta, points, labels)\n",
    "    if i < 5:\n",
    "        print('--Epoch ' + str(i) + '---')\n",
    "        print('Theta: ', theta)\n",
    "        print('Cost: ', cal_cost(theta, points, labels)[0][0])\n",
    "print ('\\n Result after ' + str(epoch) + ' Epochs')\n",
    "print ('Theta: {0}'.format(theta))\n",
    "print ('Cost: {0}'.format(cal_cost(theta, points, labels)[0][0]))\n"
   ]
  },
  {
   "cell_type": "code",
   "execution_count": 9,
   "metadata": {},
   "outputs": [
    {
     "name": "stdout",
     "output_type": "stream",
     "text": [
      "done\n"
     ]
    },
    {
     "data": {
      "image/png": "[encoded data removed]",
      "text/plain": [
       "<Figure size 432x288 with 1 Axes>"
      ]
     },
     "metadata": {
      "needs_background": "light"
     },
     "output_type": "display_data"
    }
   ],
   "source": [
    "# Draw Decision Boundary Here\n",
    "print('done')\n",
    "x = np.linspace(30, 100, 200)\n",
    "formula = (-theta[0][0] - x * theta[0][1]) / theta[0][2]\n",
    "\n",
    "for i in range(len(points)):\n",
    "    plt.scatter(points[i][1], points[i][2], \n",
    "                color = 'black' if labels[0][i] == 1 else 'y',\n",
    "                marker = '+' if labels[0][i]  == 1 else 'o')\n",
    "    \n",
    "plt.plot(x, formula)\n",
    "plt.show()"
   ]
  },
  {
   "cell_type": "markdown",
   "metadata": {},
   "source": [
    "\n",
    "### 1.6 Evaluating Logistic Regression\n",
    "\n",
    "Evaluate the model with given data. **(5 Points)**\n",
    "\n",
    "**Tasks:**\n",
    "1. Calculate the training accuracy and print it out\n",
    "2. Evaluate the predicted probability of the learnt model with x1 = 56 and x2 = 32 and print it out.\n",
    "\n",
    "\n",
    "**Hints:**  \n",
    "1. Positive(prediction>0.5) and negative(prediction<=0.5). \n",
    "2. The prediction results are based on acceptance probability. Given the two exam scores, we expected the model yields either high probability of \"fail\" or low probability of \"pass\".\n",
    "3. Training accuracy should be high enough, like above 87%."
   ]
  },
  {
   "cell_type": "code",
   "execution_count": 10,
   "metadata": {},
   "outputs": [
    {
     "name": "stdout",
     "output_type": "stream",
     "text": [
      "accuracy: 87.5%\n",
      "prediction of value: 0.019759830409964065\n"
     ]
    }
   ],
   "source": [
    "# Evaluate the model\n",
    "correct = 0\n",
    "\n",
    "results = getH(theta, points)\n",
    "for i in range(len(results)):\n",
    "    if labels[0][i] == 1 and results[i][0] > 0.5:\n",
    "        correct += 1\n",
    "    elif labels[0][i] == 0 and results[i][0] <= 0.5:\n",
    "        correct += 1\n",
    "accuracy = correct / len(labels[0]) * 100\n",
    "print ('accuracy: ' + str(accuracy) + '%')\n",
    "accuracy = correct / len(labels[0]) * 100\n",
    "print ('prediction of value: ' + str(getH(theta, np.array([[1, 56, 32]]))[0][0]))\n"
   ]
  },
  {
   "cell_type": "markdown",
   "metadata": {},
   "source": [
    "\n",
    "## 2 - Regularized Logistic Regression ##\n",
    "### 2.1 - Data Preparation\n",
    "\n",
    "Prepare the data for regression task. **(5 Points)**\n",
    "\n",
    "**Tasks:**\n",
    "1. Load data for logistic regression.\n",
    "2. Generate the scatter plot of the data.\n",
    "\n",
    "**Hints:**\n",
    "1. The data file is \"data_reg_logistic.csv\".\n",
    "2. The data is organized by columns with : x1, x2 and label y.\n",
    "3. Try different scatter styles for postive(label=1) and negative(label=0) data.\n",
    "4. An example of scatter plots is shown below. Obviously, it is difficult to obtain a accurate linear boundary.\n",
    "![mxplusc](data_plots_2.png)"
   ]
  },
  {
   "cell_type": "code",
   "execution_count": 11,
   "metadata": {},
   "outputs": [
    {
     "data": {
      "image/png": "[encoded data removed]",
      "text/plain": [
       "<Figure size 432x288 with 1 Axes>"
      ]
     },
     "metadata": {
      "needs_background": "light"
     },
     "output_type": "display_data"
    }
   ],
   "source": [
    "# Preprocess input data and generate plots\n",
    "data = pd.read_csv('data_reg_logistic.csv')\n",
    "x = data.iloc[:, 0]\n",
    "y = data.iloc[:, 1]\n",
    "z = data.iloc[:, 2]\n",
    "points = []\n",
    "labels = []\n",
    "g = 0\n",
    "h=0\n",
    "for i in range(len(x)):\n",
    "    points.append([1, x[i], y[i]])\n",
    "    labels.append(z[i])\n",
    "    if z[i] == 1:\n",
    "        g += 1\n",
    "    else:\n",
    "        h += 1\n",
    "        \n",
    "for i in range(len(points)):\n",
    "    plt.scatter(points[i][1], points[i][2], \n",
    "                color = 'black' if labels[i] == 1 else 'y',\n",
    "                marker = '+' if labels[i]  == 1 else 'o')\n",
    "points = np.array(points)\n",
    "points_original = points\n",
    "labels = np.array([labels])\n",
    "plt.show()"
   ]
  },
  {
   "cell_type": "markdown",
   "metadata": {},
   "source": [
    "### 2.2 - Feature Mapping\n",
    "\n",
    "To obtain nonlinear boundary, we map the features into higher dimension.  **(5 Points)**\n",
    "\n",
    "**Tasks:**\n",
    "1. Map the 2-dimension features into all polynomial terms of x1 and x2 up to the 6th power.\n",
    "\n",
    "**Hints:**\n",
    "1. Mapping rule is similar to projection function which encodes input variables to new values. The example below shows input x will be encoded to a vector.\n",
    "![mxplusc](map_feature.png)\n",
    "2. Try the template below to implement your function: \n",
    "\n",
    "    def mapFeatures(data, degrees=6):\n",
    "        for i in all degrees\n",
    "            for j from 0 to i+1\n",
    "                X = X.append(X1^(i-j) * X2^j) /* Check the polynomial kernel function format. Consider np.hstack function.\n",
    "        return X\n",
    "\n",
    "3. Validation for mapFeature(np.array([[0,1]])) is \\\n",
    "[[1. 0. 1. 0. 0. 1. 0. 0. 0. 1. 0. 0. 0. 0. 1. 0. 0. 0. 0. 0. 1. 0. 0. 0. 0. 0. 0. 1.]]"
   ]
  },
  {
   "cell_type": "code",
   "execution_count": 12,
   "metadata": {},
   "outputs": [
    {
     "name": "stdout",
     "output_type": "stream",
     "text": [
      "mapping feature\n",
      "(1, 28)\n",
      "[[1. 0. 1. 0. 0. 1. 0. 0. 0. 1. 0. 0. 0. 0. 1. 0. 0. 0. 0. 0. 1. 0. 0. 0.\n",
      "  0. 0. 0. 1.]]\n"
     ]
    }
   ],
   "source": [
    "print('mapping feature')\n",
    "def mapFeature(data, degrees=6):\n",
    "    X1 = data[:,1]\n",
    "    X2 = data[:,2]\n",
    "#     print(X1)\n",
    "    m = len(np.atleast_1d(X1))\n",
    "    X = np.ones((m, 1))\n",
    "    for ii in range(1, degrees+1):\n",
    "            for jj in range(0,ii+1):\n",
    "                    X = np.hstack((X, (X1**(ii-jj) * X2**jj).reshape(m,1)))\n",
    "    return X\n",
    "\n",
    "#testing whether it is correct.\n",
    "test = np.array([[1,0,1]])\n",
    "print(mapFeature(test).shape)\n",
    "X = mapFeature(test)\n",
    "print(X)\n",
    "\n"
   ]
  },
  {
   "cell_type": "markdown",
   "metadata": {},
   "source": [
    "### 2.3 - Cost function and gradient\n",
    "\n",
    "Implement the cost function and gradient for regularized logistic regression. **(20 Points)**\n",
    "\n",
    "**Tasks:**\n",
    "1. Implement the \"cal_reg_cost\" to compute the cost.\n",
    "2. Implement the \"cal_reg_grad\" to compute the gradients.\n",
    "3. Test the the two functions with initial values.\n",
    "\n",
    "**Hint:**\n",
    "1. The regularized cost function in logistic regression is similar to the previous one, but with a regularization term. \n",
    "![mxplusc](equation_J_reg.png)\n",
    "2. The gradient of the cost is a vector of the same length as θ where the $j$th element (for $j = 0, 1, . . . , n)$ is defined as follows. Here, the first constant term will not be regularized. The reason could be found in *The Elements of Statistical Learning by Hastie et al. (P.63-64)* if you are curious.\n",
    "![mxplusc](equation_theta_reg.jpg)\n",
    "![mxplusc](equation_theta_reg_2.jpg)\n",
    "3. Use eps = 1e-15 to prevent divide by 0 exception. Set regularization parameter **lam** to **1**\n",
    "4. You may consider the below templates for two functions:  \n",
    "\n",
    "5. Initialize the intercept term with **ones** and theta with **zeros**. Test the functions with initial values.\n"
   ]
  },
  {
   "cell_type": "code",
   "execution_count": 13,
   "metadata": {},
   "outputs": [
    {
     "name": "stdout",
     "output_type": "stream",
     "text": [
      "started\n",
      "Cost at initial theta: 0.693147180559944\n",
      "Gradient at inital theta:\n",
      " [[0.05       0.03146256 0.03589577 0.06512186 0.01044212 0.05812127\n",
      "  0.02379224 0.01121763 0.01050091 0.04185155 0.04795375 0.00272593\n",
      "  0.01551233 0.00339255 0.05331224 0.02385013 0.00614284 0.00382781\n",
      "  0.00746595 0.00566102 0.043769   0.03690049 0.00163929 0.00723665\n",
      "  0.00091111 0.00827412 0.0017557  0.05035145]]\n"
     ]
    }
   ],
   "source": [
    "print('started')\n",
    "# Implement the cost function here\n",
    "lam = 1\n",
    "theta = np.array([[0]*28])\n",
    "points = mapFeature(points)\n",
    "\n",
    "def cal_reg_cost(theta, x, y, lam):\n",
    "    # compute the hypothesis\n",
    "    htheta = getH(theta, x) # here we pass all our inputs through our weights\n",
    "    log_res = np.log(htheta)\n",
    "    # compute J in three terms \n",
    "    term1 = y.dot(log_res)\n",
    "    term2 = (1-y).dot(np.log((1+eps)-htheta))\n",
    "    term3 = lam * (theta ** 2) / 2\n",
    "    # cost function\n",
    "    cost = - 1 / len(y[0]) * (term1 + term2 - term3) \n",
    "    \n",
    "    return cost\n",
    "\n",
    "###########################################\n",
    "def cal_reg_grad(theta, x, y, lam):\n",
    "    # compute the hypothesis\n",
    "    htheta = getH(theta, x)\n",
    "#     print(htheta.shape) # 100 x 1\n",
    "    inside = (htheta - transpose(y))\n",
    "#     print(inside.shape) # 100 x 1\n",
    "    term1 = transpose(inside).dot(x)\n",
    "#     print(term1.shape) # 1 x 20\n",
    "    term2 = lam * theta\n",
    "    grad = (1 / len(y[0])) * (term1 + term2)\n",
    "    \n",
    "    return grad\n",
    "\n",
    "cost_init = cal_reg_cost(theta, points, labels, lam)[0][0]\n",
    "grad_init = cal_reg_grad(theta, points, labels, lam)\n",
    "print ('Cost at initial theta: {0}'.format(cost_init))\n",
    "print ('Gradient at inital theta:\\n {0}'.format(grad_init))\n",
    "\n"
   ]
  },
  {
   "cell_type": "markdown",
   "metadata": {},
   "source": [
    "  **Validation**: \\\n",
    "  Cost at initial theta : 0.6931471805599442 \\\n",
    "  Gradient at inital theta : \\\n",
    "  [0.05    &nbsp;   0.03146256 &nbsp; 0.03589577 &nbsp;0.06512186 &nbsp;0.01044212\\\n",
    "  0.05812127 &nbsp; 0.02379224 &nbsp; 0.01121763 &nbsp; 0.01050091 &nbsp; 0.04185155\\\n",
    "  0.04795375 &nbsp; 0.00272593 &nbsp; 0.01551233 &nbsp; 0.00339255 &nbsp; 0.05331224\\\n",
    "  0.02385013 &nbsp; 0.00614284 &nbsp; 0.00382781 &nbsp; 0.00746595 &nbsp; 0.00566102\\\n",
    "  0.043769   &nbsp; 0.03690049 &nbsp; 0.00163929 &nbsp; 0.00723665 &nbsp; 0.00091111\\\n",
    "  0.00827412 &nbsp; 0.0017557  &nbsp; 0.05035145]"
   ]
  },
  {
   "cell_type": "markdown",
   "metadata": {},
   "source": [
    "## 2.4 Train parameters with Gradient Descent ##\n",
    "\n",
    "\n",
    "Train parameters with Gradient Descent. **(10 Points)**\n",
    "\n",
    "**Tasks:**\n",
    "1. Implement GD function to optimize parameters.\n",
    "2. Print out the best theta (the last one is considered as the best here) and its corresponding cost.\n",
    "3. Plot the decision boundary.\n",
    "\n",
    "**Hints:**\n",
    "1. Calculate best fit theta by Gradient Descent with learning rate of **0.001**, epoch of **800K**, and lambda **1**. The initial theta from above blocks is used as initial values.  \n"
   ]
  },
  {
   "cell_type": "code",
   "execution_count": 14,
   "metadata": {},
   "outputs": [
    {
     "name": "stdout",
     "output_type": "stream",
     "text": [
      "started\n",
      "--Epoch 0---\n",
      "Theta:  [[-5.00000000e-05 -3.14625580e-05 -3.58957700e-05 -6.51218577e-05\n",
      "  -1.04421167e-05 -5.81212666e-05 -2.37922390e-05 -1.12176321e-05\n",
      "  -1.05009072e-05 -4.18515520e-05 -4.79537494e-05 -2.72592921e-06\n",
      "  -1.55123328e-05 -3.39254609e-06 -5.33122440e-05 -2.38501348e-05\n",
      "  -6.14284478e-06 -3.82780648e-06 -7.46594607e-06 -5.66102417e-06\n",
      "  -4.37690001e-05 -3.69004876e-05 -1.63928681e-06 -7.23665148e-06\n",
      "  -9.11107182e-07 -8.27412363e-06 -1.75570322e-06 -5.03514495e-05]]\n",
      "Cost:  0.693120073507812\n",
      "--Epoch 1---\n",
      "Theta:  [[-9.99655872e-05 -6.29180045e-05 -7.17762192e-05 -1.30232876e-04\n",
      "  -2.08833542e-05 -1.16226611e-04 -4.75791514e-05 -2.24326894e-05\n",
      "  -2.10002834e-05 -8.36911234e-05 -9.59008610e-05 -5.45120938e-06\n",
      "  -3.10221132e-05 -6.78469307e-06 -1.06612424e-04 -4.76958444e-05\n",
      "  -1.22845790e-05 -7.65483587e-06 -1.49304702e-05 -1.13213871e-05\n",
      "  -8.75273807e-05 -7.37959678e-05 -3.27810252e-06 -1.44722935e-05\n",
      "  -1.82196550e-06 -1.65468641e-05 -3.51116570e-06 -1.00692168e-04]]\n",
      "Cost:  0.6930929805084722\n",
      "--Epoch 2---\n",
      "Theta:  [[-1.49896776e-04 -9.43663412e-05 -1.07641353e-04 -1.95333057e-04\n",
      "  -3.13237127e-05 -1.74316038e-04 -7.13607385e-05 -3.36451729e-05\n",
      "  -3.14981290e-05 -1.25518718e-04 -1.43841337e-04 -8.17584068e-06\n",
      "  -4.65293421e-05 -1.01764410e-05 -1.59900545e-04 -7.15371301e-05\n",
      "  -1.84252031e-05 -1.14810884e-05 -2.23935728e-05 -1.69810890e-05\n",
      "  -1.31275145e-04 -1.10686442e-04 -4.91644726e-06 -2.17069264e-05\n",
      "  -2.73257501e-06 -2.48182220e-05 -5.26638746e-06 -1.51022159e-04]]\n",
      "Cost:  0.6930659015520958\n",
      "\n",
      " Result after 800000 Epochs\n",
      "Theta: [[ 1.04794000e+00  3.04971879e-01  7.12268272e-01 -1.91716437e+00\n",
      "  -5.43893614e-01 -1.15993656e+00  1.72275964e-01 -2.38668991e-01\n",
      "  -3.48061051e-01 -2.46845552e-01 -1.37196650e+00  8.54382019e-05\n",
      "  -5.20064441e-01 -1.54571060e-01 -1.10134856e+00 -1.43822803e-01\n",
      "  -1.66619316e-01 -1.24448801e-02 -2.14468800e-01 -2.68102419e-01\n",
      "  -4.80805828e-01 -9.50796424e-01  3.07078301e-02 -2.42873019e-01\n",
      "   1.09306553e-02 -2.58057132e-01 -8.17932113e-02 -9.31763057e-01]]\n",
      "Cost: 0.46384576332333155\n"
     ]
    }
   ],
   "source": [
    "# Learning and plot here\n",
    "# Gradient Descent Implementation Here\n",
    "print('started')\n",
    "lr = 0.001\n",
    "epoch = 800000\n",
    "def train(lam, check):\n",
    "    theta = np.array([[0]*28])\n",
    "    for i in range(epoch):\n",
    "        theta = theta - lr * cal_reg_grad(theta, points, labels, lam)\n",
    "        if i < 3 and check:\n",
    "            print('--Epoch ' + str(i) + '---')\n",
    "            print('Theta: ', theta)\n",
    "            print('Cost: ', cal_reg_cost(theta, points, labels, lam)[0][0])\n",
    "    return theta \n",
    "\n",
    "theta = train(lam, True)\n",
    "print ('\\n Result after ' + str(epoch) + ' Epochs')\n",
    "print ('Theta: {0}'.format(theta))\n",
    "print ('Cost: {0}'.format(cal_cost(theta, points, labels)[0][0]))\n",
    "\n",
    "\n",
    "# print ('Best fit theta: {0}'.format(theta))\n",
    "# print ('Cost function at best fit theta: {0}'.format(cal_reg_cost(theta, X, y, lam)))\n"
   ]
  },
  {
   "cell_type": "markdown",
   "metadata": {},
   "source": [
    "2. Validation results for first 3 epochs:\\\n",
    "------Epoch 0------\\\n",
    "Best fit theta: \\\n",
    "[-5.00000000e-05 -3.14625580e-05 -3.58957700e-05 -6.51218577e-05\n",
    " -1.04421167e-05 -5.81212666e-05 -2.37922390e-05 -1.12176321e-05\n",
    " -1.05009072e-05 -4.18515520e-05 -4.79537494e-05 -2.72592921e-06\n",
    " -1.55123328e-05 -3.39254609e-06 -5.33122440e-05 -2.38501348e-05\n",
    " -6.14284478e-06 -3.82780648e-06 -7.46594607e-06 -5.66102417e-06\n",
    " -4.37690001e-05 -3.69004876e-05 -1.63928681e-06 -7.23665148e-06\n",
    " -9.11107182e-07 -8.27412363e-06 -1.75570322e-06 -5.03514495e-05]\\\n",
    "Cost function at best fit theta: 0.6931200736183647\\\n",
    "------Epoch 1------\\\n",
    "Best fit theta:\\\n",
    "[-9.99660872e-05 -6.29180045e-05 -7.17762192e-05 -1.30232876e-04\n",
    " -2.08833542e-05 -1.16226611e-04 -4.75791514e-05 -2.24326894e-05\n",
    " -2.10002834e-05 -8.36911234e-05 -9.59008610e-05 -5.45120938e-06\n",
    " -3.10221132e-05 -6.78469307e-06 -1.06612424e-04 -4.76958444e-05\n",
    " -1.22845790e-05 -7.65483587e-06 -1.49304702e-05 -1.13213871e-05\n",
    " -8.75273807e-05 -7.37959678e-05 -3.27810252e-06 -1.44722935e-05\n",
    " -1.82196550e-06 -1.65468641e-05 -3.51116570e-06 -1.00692168e-04]\\\n",
    "Cost function at best fit theta: 0.6930929809256421\\\n",
    "------Epoch 2------\\\n",
    "Best fit theta: \\\n",
    "[-1.49898275e-04 -9.43663412e-05 -1.07641353e-04 -1.95333057e-04\n",
    " -3.13237127e-05 -1.74316038e-04 -7.13607385e-05 -3.36451729e-05\n",
    " -3.14981290e-05 -1.25518718e-04 -1.43841337e-04 -8.17584068e-06\n",
    " -4.65293421e-05 -1.01764410e-05 -1.59900545e-04 -7.15371301e-05\n",
    " -1.84252031e-05 -1.14810884e-05 -2.23935728e-05 -1.69810890e-05\n",
    " -1.31275145e-04 -1.10686442e-04 -4.91644726e-06 -2.17069264e-05\n",
    " -2.73257501e-06 -2.48182220e-05 -5.26638746e-06 -1.51022159e-04]\\\n",
    "Cost function at best fit theta: 0.6930659024719215"
   ]
  },
  {
   "cell_type": "code",
   "execution_count": 15,
   "metadata": {},
   "outputs": [
    {
     "data": {
      "image/png": "[encoded data removed]",
      "text/plain": [
       "<Figure size 432x288 with 1 Axes>"
      ]
     },
     "metadata": {
      "needs_background": "light"
     },
     "output_type": "display_data"
    }
   ],
   "source": [
    "# Plot Boundary Contour Here\n",
    "\n",
    "for i in range(len(points)):\n",
    "    plt.scatter(points_original[i][1], points_original[i][2], \n",
    "                color = 'black' if labels[0][i] == 1 else 'y',\n",
    "                marker = '+' if labels[0][i]  == 1 else 'o')\n",
    "    \n",
    "x = np.linspace(-1.0, 1.5, 100)\n",
    "y = np.linspace(-1.0, 1.5, 100)\n",
    "x, y = np.meshgrid(x, y)\n",
    "z = []\n",
    "\n",
    "for r in range(len(x)):\n",
    "    temp = []\n",
    "    for c in range(len(x[r])):\n",
    "        temp.append(getH(theta, mapFeature(np.array([[1, x[r][c], y[r][c]]])))[0][0])\n",
    "    z.append(temp)\n",
    "\n",
    "plt.contour(x, y, z, levels=[0.5], colors=['b'])\n",
    "plt.show()"
   ]
  },
  {
   "cell_type": "markdown",
   "metadata": {},
   "source": [
    "3. Decision boundary result may look like the one below. You may consider plt.contour. https://matplotlib.org/3.3.1/api/_as_gen/matplotlib.pyplot.contour.html\n",
    "![mxplusc](decision_boundary.png)\n",
    "4. It may take ~1 min to finish running."
   ]
  },
  {
   "cell_type": "markdown",
   "metadata": {},
   "source": [
    "## 2.5 Varying the Regularization parameter ##\n",
    "\n",
    "\n",
    "Modifying the value of regularization term lambda to see how the decision boundry changes. **(10 Points)**\n",
    "\n",
    "**Tasks:**\n",
    "1. Set lambda to be different values (0.01, 1, 10, 20) and plot the results.\n",
    "2. Print out the best lambda and the corresponding training accuracy.\n",
    "\n",
    "**Hints:**\n",
    "1. With the developed functions above, specify varying lambda values\n",
    "2. Initial thetas are the same.\n",
    "3. When lams = [0.01, 1, 10 , 20], you may obtain the similar plots below.\n",
    "![mxplusc](decision_boundary_set.png)\n",
    "4. It may take 3~4 mins to finish running."
   ]
  },
  {
   "cell_type": "code",
   "execution_count": 17,
   "metadata": {},
   "outputs": [
    {
     "name": "stdout",
     "output_type": "stream",
     "text": [
      "lambda:  0.01 accuracy:  80 %\n"
     ]
    },
    {
     "data": {
      "image/png": "[encoded data removed]",
      "text/plain": [
       "<Figure size 432x288 with 1 Axes>"
      ]
     },
     "metadata": {
      "needs_background": "light"
     },
     "output_type": "display_data"
    },
    {
     "name": "stdout",
     "output_type": "stream",
     "text": [
      "lambda:  1 accuracy:  81 %\n"
     ]
    },
    {
     "data": {
      "image/png": "[encoded data removed]",
      "text/plain": [
       "<Figure size 432x288 with 1 Axes>"
      ]
     },
     "metadata": {
      "needs_background": "light"
     },
     "output_type": "display_data"
    },
    {
     "name": "stdout",
     "output_type": "stream",
     "text": [
      "lambda:  10 accuracy:  70 %\n"
     ]
    },
    {
     "data": {
      "image/png": "[encoded data removed]",
      "text/plain": [
       "<Figure size 432x288 with 1 Axes>"
      ]
     },
     "metadata": {
      "needs_background": "light"
     },
     "output_type": "display_data"
    },
    {
     "name": "stdout",
     "output_type": "stream",
     "text": [
      "lambda:  20 accuracy:  62 %\n"
     ]
    },
    {
     "data": {
      "image/png": "[encoded data removed]",
      "text/plain": [
       "<Figure size 432x288 with 1 Axes>"
      ]
     },
     "metadata": {
      "needs_background": "light"
     },
     "output_type": "display_data"
    },
    {
     "name": "stdout",
     "output_type": "stream",
     "text": [
      "best acc 81\n",
      "best lam 1\n"
     ]
    }
   ],
   "source": [
    "#Varying the Regularization parameter\n",
    "\n",
    "lams = [0.01, 1, 10, 20]\n",
    "best_acc = 0\n",
    "best_lam = None\n",
    "for l in lams:\n",
    "    theta = train(l, False)\n",
    "\n",
    "    for i in range(len(points)):\n",
    "        plt.scatter(points_original[i][1], points_original[i][2], \n",
    "                    color = 'black' if labels[0][i] == 1 else 'y',\n",
    "                    marker = '+' if labels[0][i]  == 1 else 'o')\n",
    "\n",
    "    x = np.linspace(-1.0, 1.5, 100)\n",
    "    y = np.linspace(-1.0, 1.5, 100)\n",
    "    x, y = np.meshgrid(x, y)\n",
    "    z = []\n",
    "\n",
    "    for r in range(len(x)):\n",
    "        temp = []\n",
    "        for c in range(len(x[r])):\n",
    "            temp.append(getH(theta, mapFeature(np.array([[1, x[r][c], y[r][c]]])))[0][0])\n",
    "        z.append(temp)\n",
    "    acc = 0\n",
    "    for k in range(len(points)):\n",
    "        point = points_original[k]\n",
    "        prediction = getH(theta, mapFeature(np.array([point])))\n",
    "        if prediction > 0.5 and labels[0][k] == 1:\n",
    "            acc += 1\n",
    "        elif prediction <= 0.5 and labels[0][k] == 0:\n",
    "            acc += 1\n",
    "    if best_acc < acc:\n",
    "        best_acc = acc\n",
    "        best_lam = l\n",
    "    plt.contour(x, y, z, levels=[0.5], colors=['b'])\n",
    "    print('lambda: ', l, 'accuracy: ', acc, '%')\n",
    "    plt.show()\n",
    "\n",
    "print('best acc',best_acc)\n",
    "print('best lam',best_lam)\n"
   ]
  },
  {
   "cell_type": "code",
   "execution_count": null,
   "metadata": {},
   "outputs": [],
   "source": []
  }
 ],
 "metadata": {
  "coursera": {
   "course_slug": "neural-networks-deep-learning",
   "graded_item_id": "XaIWT",
   "launcher_item_id": "zAgPl"
  },
  "kernelspec": {
   "display_name": "Python 3",
   "language": "python",
   "name": "python3"
  },
  "language_info": {
   "codemirror_mode": {
    "name": "ipython",
    "version": 3
   },
   "file_extension": ".py",
   "mimetype": "text/x-python",
   "name": "python",
   "nbconvert_exporter": "python",
   "pygments_lexer": "ipython3",
   "version": "3.7.6"
  }
 },
 "nbformat": 4,
 "nbformat_minor": 2
}
